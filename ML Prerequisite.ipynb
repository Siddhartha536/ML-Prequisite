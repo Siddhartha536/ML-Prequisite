{
 "cells": [
  {
   "cell_type": "markdown",
   "id": "d5c1b4ba",
   "metadata": {},
   "source": [
    "Q1) How many multiplications and additions do you need to perform a matrix multiplication between a (n, k) and (k, m) matrix? Explain.\n",
    "\n",
    "\n",
    "Ans : To multiply the two matrix of (n,k) and (k,m) order, we need n*k*m multiplication and n*(m-1)*k addition.\n",
    "We can clarify our answer more clearly, lets suppose x is the element in the position of a11 in the resultant answer of matrix after multiplication. x will be obtained and it requires k multiplications and k - 1 additions. This is because we are multiplying k elements from the row in first matrix with k elements from the column in second matrix and adding them together."
   ]
  },
  {
   "cell_type": "markdown",
   "id": "d5338978",
   "metadata": {},
   "source": [
    "Q2) Write Python code to multiply the above two matrices. Solve using list of lists and then use numpy. Compare the timing of both solutions. Which one is faster? Why?\n",
    "\n",
    "Ans : The code of the matrix multiplication using both the technique are written down"
   ]
  },
  {
   "cell_type": "code",
   "execution_count": 3,
   "id": "2c7d4a21",
   "metadata": {},
   "outputs": [
    {
     "name": "stdout",
     "output_type": "stream",
     "text": [
      "Matrix multiplication using lists of lists:\n",
      "[27, 30, 33]\n",
      "[61, 68, 75]\n",
      "[95, 106, 117]\n"
     ]
    }
   ],
   "source": [
    "# Using lists of list\n",
    "def matrix_multiplication_using_list(m,n):\n",
    "    if len(m[0])!= len(n):\n",
    "        print(\"Number of column and row of first and second matrix are not matching\")\n",
    "    answer =[[0 for _ in range(len(n[0]))] for _ in range(len(m))]\n",
    "    for i in range(len(m)):\n",
    "        for j in range(len(n[0])):\n",
    "            for k in range(len(n)):\n",
    "                answer[i][j]+=m[i][k]*n[k][j]\n",
    "    return answer\n",
    "\n",
    "matrix_m = [\n",
    "    [1, 2],\n",
    "    [3, 4],\n",
    "    [5, 6]\n",
    "]\n",
    "\n",
    "matrix_n = [\n",
    "    [7, 8, 9],\n",
    "    [10, 11, 12]\n",
    "]\n",
    "\n",
    "result_lists = matrix_multiplication_using_list(matrix_m, matrix_n)\n",
    "print(\"Matrix multiplication using lists of lists:\")\n",
    "for row in result_lists:\n",
    "    print(row)"
   ]
  },
  {
   "cell_type": "code",
   "execution_count": 4,
   "id": "52a1cc26",
   "metadata": {},
   "outputs": [
    {
     "name": "stdout",
     "output_type": "stream",
     "text": [
      "Matrix Multiplication using numpy: \n",
      "[[ 27  30  33]\n",
      " [ 61  68  75]\n",
      " [ 95 106 117]]\n"
     ]
    }
   ],
   "source": [
    "# Using numpy\n",
    "import numpy as np\n",
    "\n",
    "matrix_m = [\n",
    "    [1, 2],\n",
    "    [3, 4],\n",
    "    [5, 6]\n",
    "]\n",
    "\n",
    "matrix_n = [\n",
    "    [7, 8, 9],\n",
    "    [10, 11, 12]\n",
    "]\n",
    "\n",
    "answer = np.dot(matrix_m,matrix_n)\n",
    "print(\"Matrix Multiplication using numpy: \")\n",
    "print(answer)"
   ]
  },
  {
   "cell_type": "code",
   "execution_count": 9,
   "id": "744b49af",
   "metadata": {},
   "outputs": [
    {
     "name": "stdout",
     "output_type": "stream",
     "text": [
      "Matrix multiplication using lists of lists:\n",
      "[27, 30, 33]\n",
      "[61, 68, 75]\n",
      "[95, 106, 117]\n",
      "Matrix Multiplication using numpy: \n",
      "[[ 27  30  33]\n",
      " [ 61  68  75]\n",
      " [ 95 106 117]]\n",
      "Time taken for matrix multiplication using lists of lists: 0.19201820017769933 seconds\n",
      "Time taken for matrix multiplication using NumPy: 0.12399300001561642 seconds\n"
     ]
    }
   ],
   "source": [
    "#comparing the time\n",
    "def matrix_multiplication_using_list(m,n):\n",
    "    if len(m[0])!= len(n):\n",
    "        print(\"Number of column and row of first and second matrix are not matching\")\n",
    "    answer =[[0 for _ in range(len(n[0]))] for _ in range(len(m))]\n",
    "    for i in range(len(m)):\n",
    "        for j in range(len(n[0])):\n",
    "            for k in range(len(n)):\n",
    "                answer[i][j]+=m[i][k]*n[k][j]\n",
    "    return answer\n",
    "\n",
    "matrix_m = [\n",
    "    [1, 2],\n",
    "    [3, 4],\n",
    "    [5, 6]\n",
    "]\n",
    "\n",
    "matrix_n = [\n",
    "    [7, 8, 9],\n",
    "    [10, 11, 12]\n",
    "]\n",
    "\n",
    "result_lists = matrix_multiplication_using_list(matrix_m, matrix_n)\n",
    "print(\"Matrix multiplication using lists of lists:\")\n",
    "for row in result_lists:\n",
    "    print(row)\n",
    "import numpy as np\n",
    "\n",
    "matrix_m = [\n",
    "    [1, 2],\n",
    "    [3, 4],\n",
    "    [5, 6]\n",
    "]\n",
    "\n",
    "matrix_n = [\n",
    "    [7, 8, 9],\n",
    "    [10, 11, 12]\n",
    "]\n",
    "\n",
    "answer = np.dot(matrix_m,matrix_n)\n",
    "print(\"Matrix Multiplication using numpy: \")\n",
    "print(answer)\n",
    "    \n",
    "import timeit\n",
    "\n",
    "time_taken_using_lists = timeit.timeit(\"matrix_multiplication_using_list(matrix_m, matrix_n)\", globals=globals(), number=10000)\n",
    "\n",
    "time_using_numpy = timeit.timeit(\"np.dot(matrix_m, matrix_n)\", globals=globals(), number=10000)\n",
    "\n",
    "print(f\"Time taken for matrix multiplication using lists of lists: {time_taken_using_lists} seconds\")\n",
    "print(f\"Time taken for matrix multiplication using NumPy: {time_using_numpy} seconds\")"
   ]
  },
  {
   "cell_type": "markdown",
   "id": "c50dc507",
   "metadata": {},
   "source": [
    "We have seen that matrix multiplication using a python library numpy takes less time than using list of list. This happended because Numpy utilizes optimized C and Fortran libraries which leads to faster execution due to vectorization and parrelization."
   ]
  },
  {
   "cell_type": "markdown",
   "id": "b0f8a19b",
   "metadata": {},
   "source": [
    "Q3) Finding the highest element in a list requires one pass of the array. Finding the second highest element requires 2 passes of the the array. Using this method, what is the time complexity of finding the median of the array? Can you suggest a better method? Can you implement both these methods in Python and compare against numpy.median routine in terms of time?\n",
    "Ans : The time complexity to find the median of a list may take O(n^2) or higher. If we do sorting it will take O(nlogn) time."
   ]
  },
  {
   "cell_type": "code",
   "execution_count": 10,
   "id": "c349b925",
   "metadata": {},
   "outputs": [
    {
     "name": "stdout",
     "output_type": "stream",
     "text": [
      "Median using multiple passes: 5\n"
     ]
    }
   ],
   "source": [
    "#using multiple pass\n",
    "def find_median_multiple_pass(arr):\n",
    "    n = len(arr)\n",
    "    if n % 2 == 0:\n",
    "        k = n // 2\n",
    "        for _ in range(k):\n",
    "            max_value = max(arr)\n",
    "            arr.remove(max_value)\n",
    "\n",
    "        median = (max(arr) + max_value) / 2\n",
    "    else:\n",
    "        k = (n // 2) + 1\n",
    "        for _ in range(k):\n",
    "            median = max(arr)\n",
    "            arr.remove(median)\n",
    "\n",
    "    return median\n",
    "\n",
    "# Example array\n",
    "arr = [4, 2, 7, 1, 9, 5, 8, 3, 6]\n",
    "\n",
    "# Finding median using multiple passes\n",
    "median = find_median_multiple_pass(arr)\n",
    "print(\"Median using multiple passes:\", median)\n"
   ]
  },
  {
   "cell_type": "code",
   "execution_count": 12,
   "id": "77d9214b",
   "metadata": {},
   "outputs": [
    {
     "name": "stdout",
     "output_type": "stream",
     "text": [
      "Median using Sorting: 5\n"
     ]
    }
   ],
   "source": [
    "# using sorting\n",
    "def find_median_sorting(arr):\n",
    "    sorted_arr = sorted(arr)\n",
    "    n = len(sorted_arr)\n",
    "    if n % 2 != 0:\n",
    "        return sorted_arr[n // 2]\n",
    "    else:\n",
    "        mid = n // 2\n",
    "        return (sorted_arr[mid - 1] + sorted_arr[mid]) / 2\n",
    "    \n",
    "arr = [4, 2, 7, 1, 9, 5, 8, 3, 6]\n",
    "\n",
    "median = find_median_sorting(arr)\n",
    "print(\"Median using Sorting:\", median)"
   ]
  },
  {
   "cell_type": "code",
   "execution_count": 13,
   "id": "8190389d",
   "metadata": {},
   "outputs": [
    {
     "name": "stdout",
     "output_type": "stream",
     "text": [
      "5.0\n"
     ]
    }
   ],
   "source": [
    "#using numpy median\n",
    "import numpy as np\n",
    "\n",
    "arr = [4, 2, 7, 1, 9, 5, 8, 3, 6]\n",
    "ans = np.median(arr)\n",
    "print(ans)\n"
   ]
  },
  {
   "cell_type": "code",
   "execution_count": 17,
   "id": "d86199b3",
   "metadata": {},
   "outputs": [
    {
     "name": "stdout",
     "output_type": "stream",
     "text": [
      "Median using Multiple Pass: 5\n",
      "Median using Sorting: 5\n",
      "Median using NumPy: 5.0\n",
      "Time taken for Method 1 (Multiple Pass): 0.007452700054273009 seconds\n",
      "Time taken for Method 2 (Sorting): 0.0011395001783967018 seconds\n",
      "Time taken for NumPy's median routine: 0.06440640008077025 seconds\n"
     ]
    }
   ],
   "source": [
    "import numpy as np\n",
    "import timeit\n",
    "\n",
    "def find_median_multiple_pass(arr):\n",
    "    temp_arr = arr[:] \n",
    "    n = len(temp_arr)\n",
    "    if n % 2 == 0:\n",
    "        k = n // 2\n",
    "        for _ in range(k):\n",
    "            max_value = max(temp_arr)\n",
    "            temp_arr.remove(max_value)\n",
    "\n",
    "        median = (max(temp_arr) + max_value) / 2\n",
    "    else:\n",
    "        k = (n // 2) + 1\n",
    "        for _ in range(k):\n",
    "            median = max(temp_arr)\n",
    "            temp_arr.remove(median)\n",
    "\n",
    "    return median\n",
    "\n",
    "def find_median_sorting(arr):\n",
    "    sorted_arr = sorted(arr)\n",
    "    n = len(sorted_arr)\n",
    "    if n % 2 != 0:\n",
    "        return sorted_arr[n // 2]\n",
    "    else:\n",
    "        mid = n // 2\n",
    "        return (sorted_arr[mid - 1] + sorted_arr[mid]) / 2\n",
    "\n",
    "arr = [4, 2, 7, 1, 9, 5, 8, 3, 6]\n",
    "\n",
    "median_multiple_pass = find_median_multiple_pass(arr)\n",
    "print(\"Median using Multiple Pass:\", median_multiple_pass)\n",
    "\n",
    "median_sorting = find_median_sorting(arr)\n",
    "print(\"Median using Sorting:\", median_sorting)\n",
    "\n",
    "arr_np = np.array([4, 2, 7, 1, 9, 5, 8, 3, 6])\n",
    "median_numpy = np.median(arr_np)\n",
    "print(\"Median using NumPy:\", median_numpy)\n",
    "\n",
    "time_multiple_pass = timeit.timeit(\"find_median_multiple_pass(arr)\", globals=globals(), number=1000)\n",
    "time_sorting = timeit.timeit(\"find_median_sorting(arr)\", globals=globals(), number=1000)\n",
    "time_numpy = timeit.timeit(\"np.median(arr)\", globals=globals(), number=1000)\n",
    "\n",
    "print(f\"Time taken for Method 1 (Multiple Pass): {time_multiple_pass} seconds\")\n",
    "print(f\"Time taken for Method 2 (Sorting): {time_sorting} seconds\")\n",
    "print(f\"Time taken for NumPy's median routine: {time_numpy} seconds\")\n"
   ]
  },
  {
   "cell_type": "markdown",
   "id": "0b746606",
   "metadata": {},
   "source": [
    "given function: $$ f(x, y) = x^3y + y^3\\sin(x) $$\n",
    "\\\n",
    "partial derivative wiith respect to x: $$ \\frac{\\partial f}{\\partial x} = 3x^2y + y^3\\cos(x) $$\n",
    "\\\n",
    "partial derivative with respect to y: $$ \\frac{\\partial f}{\\partial y} = x^3 + 3y^2\\sin(x) $$\n",
    "\\gradient vector is given by: $$ \\nabla f = \\left( \\frac{\\partial f}{\\partial x}, \\frac{\\partial f}{\\partial y} \\right) = \\left(3x^2y + y^3\\cos(x), x^3 + 3y^2\\sin(x)\\right) $$\n"
   ]
  },
  {
   "cell_type": "code",
   "execution_count": 23,
   "id": "299db680",
   "metadata": {},
   "outputs": [
    {
     "name": "stdout",
     "output_type": "stream",
     "text": [
      "Requirement already satisfied: jax in c:\\users\\kiit\\appdata\\local\\programs\\python\\python310\\lib\\site-packages (0.4.23)\n",
      "Requirement already satisfied: jaxlib in c:\\users\\kiit\\appdata\\local\\programs\\python\\python310\\lib\\site-packages (0.4.23)\n",
      "Requirement already satisfied: ml-dtypes>=0.2.0 in c:\\users\\kiit\\appdata\\local\\programs\\python\\python310\\lib\\site-packages (from jax) (0.3.2)\n",
      "Requirement already satisfied: numpy>=1.22 in c:\\users\\kiit\\appdata\\local\\programs\\python\\python310\\lib\\site-packages (from jax) (1.22.3)\n",
      "Requirement already satisfied: opt-einsum in c:\\users\\kiit\\appdata\\local\\programs\\python\\python310\\lib\\site-packages (from jax) (3.3.0)\n",
      "Requirement already satisfied: scipy>=1.9 in c:\\users\\kiit\\appdata\\local\\programs\\python\\python310\\lib\\site-packages (from jax) (1.11.1)\n",
      "Note: you may need to restart the kernel to use updated packages.\n"
     ]
    },
    {
     "name": "stderr",
     "output_type": "stream",
     "text": [
      "\n",
      "[notice] A new release of pip is available: 23.2.1 -> 23.3.2\n",
      "[notice] To update, run: C:\\Users\\KIIT\\AppData\\Local\\Programs\\Python\\Python310\\python.exe -m pip install --upgrade pip\n"
     ]
    }
   ],
   "source": [
    "pip install jax jaxlib"
   ]
  },
  {
   "cell_type": "code",
   "execution_count": 24,
   "id": "14d971ae",
   "metadata": {},
   "outputs": [
    {
     "name": "stdout",
     "output_type": "stream",
     "text": [
      "Analytical Gradient: [0.72801733 0.7276784 ]\n",
      "JAX Computed Gradient: (Array(0.72801733, dtype=float32), Array(0.7276784, dtype=float32))\n",
      "Match: False\n",
      "\n",
      "\n",
      "Analytical Gradient: [0.00395752 0.00395752]\n",
      "JAX Computed Gradient: (Array(0.00395752, dtype=float32), Array(0.00395752, dtype=float32))\n",
      "Match: True\n",
      "\n",
      "\n",
      "Analytical Gradient: [0.23845413 0.23843008]\n",
      "JAX Computed Gradient: (Array(0.23845413, dtype=float32), Array(0.23843008, dtype=float32))\n",
      "Match: False\n",
      "\n",
      "\n",
      "Analytical Gradient: [2.5925028 2.5851705]\n",
      "JAX Computed Gradient: (Array(2.5925028, dtype=float32), Array(2.5851705, dtype=float32))\n",
      "Match: False\n",
      "\n",
      "\n",
      "Analytical Gradient: [0.8125792 0.8121386]\n",
      "JAX Computed Gradient: (Array(0.8125792, dtype=float32), Array(0.8121386, dtype=float32))\n",
      "Match: False\n",
      "\n",
      "\n"
     ]
    }
   ],
   "source": [
    "#5. Use JAX to confirm the gradient evaluated by your method matches the analytical solution corresponding to a few random values of x and y\n",
    "import jax\n",
    "import jax.numpy as jnp\n",
    "\n",
    "def f(x, y):\n",
    "    return x**3 * y + y**3 * jnp.sin(x)\n",
    "\n",
    "def analyticalGradient(x, y):\n",
    "    df_dx = 3 * x**2 * y + y**3 * jnp.cos(x)\n",
    "    df_dy = x**3 + 3 * y**2 * jnp.sin(x)\n",
    "    return jnp.array([df_dx, df_dy])\n",
    "\n",
    "gradF = jax.grad(f, argnums=(0, 1))\n",
    "\n",
    "rng = jax.random.PRNGKey(0)\n",
    "xValues = jax.random.uniform(rng, shape=(5,))\n",
    "yValues = jax.random.uniform(rng, shape=(5,))\n",
    "\n",
    "for x, y in zip(xValues, yValues):\n",
    "    analyticalResult = analyticalGradient(x, y)\n",
    "    jaxResult = gradF(x, y)\n",
    "\n",
    "    print(f\"Analytical Gradient: {analyticalResult}\")\n",
    "    print(f\"JAX Computed Gradient: {jaxResult}\")\n",
    "    print(f\"Match: {jnp.allclose(analyticalResult, jaxResult[0])}\")\n",
    "    print(\"\\n\")\n"
   ]
  }
 ],
 "metadata": {
  "kernelspec": {
   "display_name": "Python 3 (ipykernel)",
   "language": "python",
   "name": "python3"
  },
  "language_info": {
   "codemirror_mode": {
    "name": "ipython",
    "version": 3
   },
   "file_extension": ".py",
   "mimetype": "text/x-python",
   "name": "python",
   "nbconvert_exporter": "python",
   "pygments_lexer": "ipython3",
   "version": "3.10.1"
  }
 },
 "nbformat": 4,
 "nbformat_minor": 5
}
